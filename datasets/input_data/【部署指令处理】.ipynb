{
 "cells": [
  {
   "cell_type": "markdown",
   "metadata": {},
   "source": [
    "# 合并other和street"
   ]
  },
  {
   "cell_type": "code",
   "execution_count": 1,
   "metadata": {},
   "outputs": [],
   "source": [
    "from data.inputs_mono_other import orders as o1\n",
    "from data.inputs_mono_street import orders as o2\n",
    "from data.inputs_poly_other import orders as o3\n",
    "from data.inputs_poly_street import orders as o4\n",
    "def save_list(l, path):\n",
    "    with open(path, 'w') as f:\n",
    "        f.write(\"orders = {\\n\")\n",
    "        for key, value in enumerate(l):\n",
    "            f.write(f\"    \\\"order_{repr(key)}\\\": {repr(value)},\\n\")  # 使用 repr 确保正确格式化\n",
    "        f.write(\"}\\n\")\n",
    "def merge_list(l1, l2, path):\n",
    "    both = list(set(l1+l2))\n",
    "    save_list(both, path)\n",
    "merge_list(o1, o2, 'data/inputs_mono_unique.py')\n",
    "merge_list(o3, o4, 'data/inputs_poly_unique.py')"
   ]
  },
  {
   "cell_type": "markdown",
   "metadata": {},
   "source": [
    "# 合并单双色"
   ]
  },
  {
   "cell_type": "code",
   "execution_count": 1,
   "metadata": {},
   "outputs": [],
   "source": [
    "from data.inputs_mono_other import orders as mono\n",
    "from data.inputs_poly_other import orders as poly\n",
    "# 合并单双色\n",
    "def save_list(l, path):\n",
    "    with open(path, 'w') as f:\n",
    "        f.write(\"orders = {\\n\")\n",
    "        for key, value in enumerate(l):\n",
    "            f.write(f\"    \\\"order_{repr(key)}\\\": {repr(value)},\\n\")  # 使用 repr 确保正确格式化\n",
    "        f.write(\"}\\n\")\n",
    "def unique_list(l):\n",
    "    return list(set(l))\n",
    "\n",
    "# merge_list(list(mono.values())[:18], list(poly.values())[:2], 'data/inputs_unique_exp.py')\n",
    "\n",
    "# mono_list = unique_list(list(mono.values()))\n",
    "# poly_list = unique_list(list(poly.values()))\n",
    "mono_list = unique_list(mono)\n",
    "poly_list = unique_list(poly)\n",
    "\n",
    "n = len(mono_list+poly_list)\n",
    "# 以10个为单位，每10个指令包含8个单色指令，2个双色指令\n",
    "x=8\n",
    "y=2\n",
    "m=0\n",
    "p=0\n",
    "orders = []\n",
    "for i in range(0, n, 10):\n",
    "    try:\n",
    "        orders[i:i+10] = mono_list[m:m+x]+poly_list[p:p+y]\n",
    "        m+=x\n",
    "        p+=y\n",
    "    except:\n",
    "        orders[i:i+10] = mono_list[m:]+poly_list[p:]\n",
    "save_list(orders, 'data/inputs_unique.py')"
   ]
  },
  {
   "cell_type": "markdown",
   "metadata": {},
   "source": [
    "### 按照一定比例进行指令合并"
   ]
  },
  {
   "cell_type": "code",
   "execution_count": 1,
   "metadata": {},
   "outputs": [],
   "source": [
    "from data.structured_input_1 import orders as raw_orders1\n",
    "from data.structured_input_2 import orders as raw_orders2\n",
    "import random\n",
    "\n",
    "orders1 = list(raw_orders1.values())\n",
    "orders2 = list(raw_orders2.values())\n",
    "def unique_list(l):\n",
    "    return list(set(l))\n",
    "\n",
    "# 以10个为单位，每10个指令包含8个单色指令，2个双色指令\n",
    "def compose(a_list, b_list):\n",
    "    n = len(a_list+b_list)\n",
    "    x=8\n",
    "    y=2\n",
    "    m=0\n",
    "    p=0\n",
    "    orders = []\n",
    "    for i in range(0, n, 10):\n",
    "        try:\n",
    "            orders[i:i+10] = a_list[m:m+x]+b_list[p:p+y]\n",
    "            m+=x\n",
    "            p+=y\n",
    "        except:\n",
    "            orders[i:i+10] = a_list[m:]+b_list[p:]\n",
    "    return orders\n",
    "\n",
    "orders = compose(orders1, orders2)\n",
    "\n",
    "def save_list(l, path):\n",
    "    with open(path, 'w') as f:\n",
    "        f.write(\"orders = {\\n\")\n",
    "        for key, value in enumerate(l):\n",
    "            f.write(f\"    \\\"order_{repr(key)}\\\": {repr(value)},\\n\")  # 使用 repr 确保正确格式化\n",
    "        f.write(\"}\\n\")\n",
    "save_list(orders, 'data/structure_input_all.py')"
   ]
  },
  {
   "cell_type": "markdown",
   "metadata": {},
   "source": [
    "# 数据增强"
   ]
  },
  {
   "cell_type": "markdown",
   "metadata": {},
   "source": [
    "## 反色"
   ]
  },
  {
   "cell_type": "code",
   "execution_count": 1,
   "metadata": {},
   "outputs": [
    {
     "ename": "",
     "evalue": "",
     "output_type": "error",
     "traceback": [
      "\u001b[1;31m在当前单元格或上一个单元格中执行代码时 Kernel 崩溃。\n",
      "\u001b[1;31m请查看单元格中的代码，以确定故障的可能原因。\n",
      "\u001b[1;31m单击<a href='https://aka.ms/vscodeJupyterKernelCrash'>此处</a>了解详细信息。\n",
      "\u001b[1;31m有关更多详细信息，请查看 Jupyter <a href='command:jupyter.viewOutput'>log</a>。"
     ]
    }
   ],
   "source": [
    "from inputs_unique import orders\n",
    "orders = list(orders.values())\n",
    "reversed = []\n",
    "def color_reverse(order):\n",
    "    if \"red\" in order or \"blue\" in order:\n",
    "        if \"red\" in order and \"blue\" in order:\n",
    "            temp_text = order.replace(\"red\", \"TEMP_REDA\")\n",
    "            temp_text = temp_text.replace(\"blue\", \"red\")\n",
    "            order = temp_text.replace(\"TEMP_REDA\", \"blue\")\n",
    "        elif \"red\" in order:\n",
    "            order = order.replace(\"red\", \"blue\")\n",
    "        elif \"blue\" in order:\n",
    "            order = order.replace(\"blue\", \"red\")\n",
    "    elif \"Red\" in order or \"Blue\" in order:\n",
    "        if \"Red\" in order and \"Blue\" in order:\n",
    "            temp_text = order.replace(\"Red\", \"TEMP_REDA\")\n",
    "            temp_text = temp_text.replace(\"Blue\", \"Red\")\n",
    "            order = temp_text.replace(\"TEMP_REDA\", \"Blue\")\n",
    "        elif \"Red\" in order:\n",
    "            order = order.replace(\"Red\", \"Blue\")\n",
    "        elif \"Blue\" in order:\n",
    "            order = order.replace(\"Blue\", \"Red\")\n",
    "    return order\n",
    "for order in orders:\n",
    "    reversed.append(color_reverse(order))\n",
    "\n",
    "def merge_list(l1, l2, path):\n",
    "    both = list(set(l1+l2))\n",
    "    with open(path, 'w') as f:\n",
    "        f.write(\"orders = {\\n\")\n",
    "        for key, value in enumerate(both):\n",
    "            f.write(f\"    \\\"order_{repr(key)}\\\": {repr(value)},\\n\")  # 使用 repr 确保正确格式化\n",
    "        f.write(\"}\\n\")\n",
    "merge_list(orders, reversed, 'inputs_unique.py')\n"
   ]
  },
  {
   "cell_type": "markdown",
   "metadata": {},
   "source": [
    "## 去除周围实体过多的部署指令"
   ]
  },
  {
   "cell_type": "code",
   "execution_count": 1,
   "metadata": {},
   "outputs": [],
   "source": [
    "\n",
    "# bad_loc0 = [['Station 2x heavy machine gun nests of the Red Army at the corners of the intersection of West 33rd Street and Broadway,while deploying 7x anti-aircraft guns of the Blue Army in a circular formation around the 34th Street–Herald Square station.'],\n",
    "#  ['Deploy 6x rocket launchers of the Red Army in a hexagonal formation around the center of Times Square.'],\n",
    "#  ['Deploy 2x heavy machine gun nests of the Blue Army at the corners of the intersection of West 33rd Street and Broadway.'],\n",
    "#  ['Position 8x mobile air defense systems of the Red Army in a circular formation around the center of Times Square.']]\n",
    "# bad_loc1 = [['Station 5x mobile missile launchers of the Blue Army in a triangular formation near the intersection of Broadway and West 34th Street.'],\n",
    "#  ['Position 3x infantry fighting vehicles of the Red Army in a linear formation along Broadway,facing north,while deploying 5x snipers of the Blue Army on the rooftops of buildings along West 32nd Street.'],\n",
    "#  ['Deploy 5x mobile command centers of the Red Army in a triangular formation near the intersection of Broadway and West 32nd Street.']]\n",
    "bad_loc = ['红军在环南路309巷9弄部署三辆CM-21装甲运兵车，呈V字形队形。',\n",
    " '蓝军在远传电信店铺西侧20米部署3架RQ-4全球鹰高空侦察无人机，呈一字形编队，间距20米；红军在杨梅分局北侧配置2辆CM-12主战坦克，呈并列阵型，间距15米。']\n",
    "# from data.inputs_unique import orders as orders0\n",
    "# from data.inputs_unique_goodloc import orders as orders1\n",
    "from data.inputs_unique import orders as orders0\n",
    "from data.inputs_unique_goodloc import orders as orders1\n",
    "orders = list(orders1.values())\n",
    "# orders = list(orders1.values())\n",
    "for bad in bad_loc:\n",
    "    if isinstance(bad, list):\n",
    "        if bad[0] in orders:\n",
    "            orders.remove(bad[0])\n",
    "    else:\n",
    "        if bad in orders:\n",
    "            orders.remove(bad)\n",
    "def merge_list(l1, l2, path):\n",
    "    both = list(set(l1+l2))\n",
    "    with open(path, 'w') as f:\n",
    "        f.write(\"orders = {\\n\")\n",
    "        for key, value in enumerate(both):\n",
    "            f.write(f\"    \\\"order_{repr(key)}\\\": {repr(value)},\\n\")  # 使用 repr 确保正确格式化\n",
    "        f.write(\"}\\n\")\n",
    "def save_list(l, path):\n",
    "    with open(path, 'w') as f:\n",
    "        f.write(\"orders = {\\n\")\n",
    "        for key, value in enumerate(l):\n",
    "            f.write(f\"    \\\"order_{repr(key)}\\\": {repr(value)},\\n\")  # 使用 repr 确保正确格式化\n",
    "        f.write(\"}\\n\")\n",
    "save_list(orders, 'data/inputs_unique_goodloc.py')\n",
    "# len(orders)"
   ]
  },
  {
   "cell_type": "markdown",
   "metadata": {},
   "source": [
    "## 随机打乱指令"
   ]
  },
  {
   "cell_type": "code",
   "execution_count": 1,
   "metadata": {},
   "outputs": [
    {
     "ename": "",
     "evalue": "",
     "output_type": "error",
     "traceback": [
      "\u001b[1;31m在当前单元格或上一个单元格中执行代码时 Kernel 崩溃。\n",
      "\u001b[1;31m请查看单元格中的代码，以确定故障的可能原因。\n",
      "\u001b[1;31m单击<a href='https://aka.ms/vscodeJupyterKernelCrash'>此处</a>了解详细信息。\n",
      "\u001b[1;31m有关更多详细信息，请查看 Jupyter <a href='command:jupyter.viewOutput'>log</a>。"
     ]
    }
   ],
   "source": [
    "from data.inputs_unique import orders as raw_orders\n",
    "import random\n",
    "orders0 = list(raw_orders.values())\n",
    "def unique_list(l):\n",
    "    return list(set(l))\n",
    "\n",
    "# 以10个为单位，每10个指令包含8个单色指令，2个双色指令\n",
    "def decompose(orders):\n",
    "    n = len(orders)\n",
    "    x=8\n",
    "    y=2\n",
    "    monos = []\n",
    "    polys = []\n",
    "    for i in range(0, n, 10):\n",
    "        monos+=orders0[i:i+x]\n",
    "        polys+=orders0[i+x:i+x+y]\n",
    "    return monos, polys\n",
    "\n",
    "monos, polys = decompose(orders0)\n",
    "random.shuffle(monos)\n",
    "random.shuffle(polys)\n",
    "\n",
    "def compose(monos, polys):\n",
    "    n = len(monos+polys)\n",
    "    x=8\n",
    "    y=2\n",
    "    m=0\n",
    "    p=0\n",
    "    orders = []\n",
    "    for i in range(0, n, 10):\n",
    "        try:\n",
    "            orders[i:i+10] = monos[m:m+x]+polys[p:p+y]\n",
    "            m+=x\n",
    "            p+=y\n",
    "        except:\n",
    "            orders[i:i+10] = monos[m:]+polys[p:]\n",
    "    return orders\n",
    "\n",
    "orders = compose(monos, polys)\n",
    "\n",
    "def save_list(l, path):\n",
    "    with open(path, 'w') as f:\n",
    "        f.write(\"orders = {\\n\")\n",
    "        for key, value in enumerate(l):\n",
    "            f.write(f\"    \\\"order_{repr(key)}\\\": {repr(value)},\\n\")  # 使用 repr 确保正确格式化\n",
    "        f.write(\"}\\n\")\n",
    "save_list(orders, 'data/inputs_unique_exp.py')"
   ]
  },
  {
   "cell_type": "markdown",
   "metadata": {},
   "source": [
    "## 制作复杂部署指令集"
   ]
  },
  {
   "cell_type": "code",
   "execution_count": 1,
   "metadata": {},
   "outputs": [
    {
     "ename": "",
     "evalue": "",
     "output_type": "error",
     "traceback": [
      "\u001b[1;31m在当前单元格或上一个单元格中执行代码时 Kernel 崩溃。\n",
      "\u001b[1;31m请查看单元格中的代码，以确定故障的可能原因。\n",
      "\u001b[1;31m单击<a href='https://aka.ms/vscodeJupyterKernelCrash'>此处</a>了解详细信息。\n",
      "\u001b[1;31m有关更多详细信息，请查看 Jupyter <a href='command:jupyter.viewOutput'>log</a>。"
     ]
    }
   ],
   "source": [
    "import random\n",
    "import json\n",
    "def save_list(l, path):\n",
    "    with open(path, 'w') as f:\n",
    "        f.write(\"orders = {\\n\")\n",
    "        for key, value in enumerate(l):\n",
    "            f.write(f\"    \\\"order_{repr(key)}\\\": {repr(value)},\\n\")  # 使用 repr 确保正确格式化\n",
    "        f.write(\"}\\n\")\n",
    "from data.zh_inputs_unique import orders as orders_raw\n",
    "two_n = 50\n",
    "two = []\n",
    "three_n = 50\n",
    "three = []\n",
    "four_n = 50\n",
    "four = []\n",
    "five_n = 50\n",
    "five = []\n",
    "ten_n = 50\n",
    "ten = []\n",
    "twenty_n = 50\n",
    "twenty = []\n",
    "thirty_n = 50\n",
    "thirty = []\n",
    "fifty_n = 50\n",
    "fifty = []\n",
    "hundred_n = 50\n",
    "hundred = []\n",
    "\n",
    "file_list = list(orders_raw.values())\n",
    "for i in range(two_n):\n",
    "    two.append('; '.join(random.sample(file_list, 2)))\n",
    "        \n",
    "for i in range(three_n):\n",
    "    three.append('; '.join(random.sample(file_list, 3)))\n",
    "\n",
    "for i in range(four_n):\n",
    "    four.append('; '.join(random.sample(file_list, 4)))\n",
    "\n",
    "for i in range(five_n):\n",
    "    five.append('; '.join(random.sample(file_list, 5)))\n",
    "\n",
    "for i in range(ten_n):\n",
    "    ten.append('; '.join(random.sample(file_list, 10)))\n",
    "\n",
    "for i in range(twenty_n):\n",
    "    twenty.append('; '.join(random.sample(file_list, 20)))\n",
    "\n",
    "for i in range(thirty_n):\n",
    "    thirty.append('; '.join(random.sample(file_list, 30)))\n",
    "\n",
    "for i in range(fifty_n):\n",
    "    fifty.append('; '.join(random.sample(file_list, 50)))\n",
    "\n",
    "for i in range(hundred_n):\n",
    "    hundred.append('; '.join(random.sample(file_list, 100)))\n",
    "\n",
    "save_list(list(set(file_list)), 'data/zh_inputs_unique_1.py')\n",
    "save_list(list(set(two)), 'data/zh_inputs_unique_2.py')\n",
    "save_list(list(set(three)), 'data/zh_inputs_unique_3.py')\n",
    "save_list(list(set(four)), 'data/zh_inputs_unique_4.py')\n",
    "save_list(list(set(five)), 'data/zh_inputs_unique_5.py')\n",
    "save_list(list(set(ten)), 'data/zh_inputs_unique_10.py')\n",
    "save_list(list(set(twenty)), 'data/zh_inputs_unique_20.py')\n",
    "save_list(list(set(thirty)), 'data/zh_inputs_unique_30.py')\n",
    "save_list(list(set(fifty)), 'data/zh_inputs_unique_50.py')\n",
    "save_list(list(set(hundred)), 'data/zh_inputs_unique_100.py')\n",
    "# save_list(list(list(set(random.sample(file_list, 10)))+list(set(random.sample(two, 10)))+list(set(random.sample(three, 10)))+list(set(random.sample(four, 10)))+list(set(random.sample(five, 10)))), 'data/geospatial_complex.py')\n"
   ]
  },
  {
   "cell_type": "markdown",
   "metadata": {},
   "source": [
    "# 把伪单一指令改为真单一指令"
   ]
  },
  {
   "cell_type": "code",
   "execution_count": 9,
   "metadata": {},
   "outputs": [],
   "source": [
    "from data.zh_inputs_unique import orders as orders_raw\n",
    "# from data.inputs_unique import orders as orders_raw\n",
    "import re\n",
    "\n",
    "def save_list(l, path):\n",
    "    with open(path, 'w') as f:\n",
    "        f.write(\"orders = {\\n\")\n",
    "        for key, value in enumerate(l):\n",
    "            f.write(f\"    \\\"order_{repr(key)}\\\": {repr(value)},\\n\")  # 使用 repr 确保正确格式化\n",
    "        f.write(\"}\\n\")\n",
    "\n",
    "orders = list(orders_raw.values())\n",
    "real_orders = []\n",
    "for order in orders:\n",
    "    real_order = [seg.strip() for seg in re.split(r'[;；]', order) if seg.strip()]\n",
    "    # real_order = [seg.strip() for seg in re.split(r'\\bwhile\\b', order, flags=re.IGNORECASE) if seg.strip()]\n",
    "    real_orders.extend(set(real_order))\n",
    "save_list(real_orders, 'data/zh_inputs_unique.py')\n"
   ]
  }
 ],
 "metadata": {
  "kernelspec": {
   "display_name": "coorGen",
   "language": "python",
   "name": "python3"
  },
  "language_info": {
   "codemirror_mode": {
    "name": "ipython",
    "version": 3
   },
   "file_extension": ".py",
   "mimetype": "text/x-python",
   "name": "python",
   "nbconvert_exporter": "python",
   "pygments_lexer": "ipython3",
   "version": "3.12.5"
  }
 },
 "nbformat": 4,
 "nbformat_minor": 2
}
